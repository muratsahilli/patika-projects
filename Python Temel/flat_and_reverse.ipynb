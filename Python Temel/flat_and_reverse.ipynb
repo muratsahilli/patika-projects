{
  "nbformat": 4,
  "nbformat_minor": 0,
  "metadata": {
    "colab": {
      "provenance": [],
      "authorship_tag": "ABX9TyMcSo+uFC9oE4NMtMySz5Oz"
    },
    "kernelspec": {
      "name": "python3",
      "display_name": "Python 3"
    },
    "language_info": {
      "name": "python"
    }
  },
  "cells": [
    {
      "cell_type": "markdown",
      "source": [
        "**Bir listeyi düzleştiren (flatten) fonksiyon yazın. Elemanları birden çok katmanlı listelerden ([[3],2] gibi) oluşabileceği gibi, non-scalar verilerden de oluşabilir.**"
      ],
      "metadata": {
        "id": "uIbKFWpWpO_D"
      }
    },
    {
      "cell_type": "code",
      "source": [
        "mylist = [[1,'a',['cat'],2],[[[3]],'dog'],4,5]\n",
        "flat_mylist = []\n",
        "\n",
        "def flatten(n):\n",
        "    makeflat = [flatten(i) if isinstance(i, type(list)) else flat_mylist.append(i) for i in n] \n",
        "\n",
        "flatten(mylist)\n",
        "print(flat_mylist)"
      ],
      "metadata": {
        "colab": {
          "base_uri": "https://localhost:8080/"
        },
        "id": "S4DyUTzBpOKT",
        "outputId": "b769d9af-d8b3-44ae-e18d-672f224f6806"
      },
      "execution_count": 53,
      "outputs": [
        {
          "output_type": "stream",
          "name": "stdout",
          "text": [
            "[1, 'a', 'cat', 2, 3, 'dog', 4, 5]\n"
          ]
        }
      ]
    },
    {
      "cell_type": "markdown",
      "source": [
        "**Verilen listenin içindeki elemanları tersine döndüren bir fonksiyon yazın. Eğer listenin içindeki elemanlar da liste içeriyorsa onların elemanlarını da tersine döndürün.**"
      ],
      "metadata": {
        "id": "TUSX-pFjpiyC"
      }
    },
    {
      "cell_type": "code",
      "source": [
        "mylist =[[1, 2], [3, 4], [5, 6, 7]]\n",
        "\n",
        "\n",
        "def reverse(mylist):\n",
        "  mylist=mylist[::-1]\n",
        "\n",
        "  reverselist = [mylist[i][::-1] for i in range(len(mylist)) ]\n",
        "  return reverselist\n",
        "\n",
        "print(reverse(mylist))"
      ],
      "metadata": {
        "colab": {
          "base_uri": "https://localhost:8080/"
        },
        "id": "MZvnyNcUpoML",
        "outputId": "015f1db8-acd3-48c6-a73d-fc4e2cc0b676"
      },
      "execution_count": 57,
      "outputs": [
        {
          "output_type": "stream",
          "name": "stdout",
          "text": [
            "[[7, 6, 5], [4, 3], [2, 1]]\n"
          ]
        }
      ]
    },
    {
      "cell_type": "code",
      "source": [],
      "metadata": {
        "id": "eT1VoQgh2lc9"
      },
      "execution_count": null,
      "outputs": []
    }
  ]
}